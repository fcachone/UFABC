{
  "nbformat": 4,
  "nbformat_minor": 0,
  "metadata": {
    "colab": {
      "name": "Cópia de Semana9-json Fabio Cachone",
      "provenance": [],
      "collapsed_sections": []
    },
    "kernelspec": {
      "name": "python3",
      "display_name": "Python 3"
    }
  },
  "cells": [
    {
      "cell_type": "code",
      "metadata": {
        "id": "gBenUhujKW5J"
      },
      "source": [
        "import pandas as pd"
      ],
      "execution_count": 1,
      "outputs": []
    },
    {
      "cell_type": "code",
      "metadata": {
        "id": "CFg-9_UNDjO7"
      },
      "source": [
        "# Se for dentro de um documento ou URL:\n",
        "#df = pd.read_json('data.json' ou 'http://....blablabla')\n",
        "\n",
        "# Se for uma variavel:\n",
        "#df = pd.DataFrame(data)"
      ],
      "execution_count": null,
      "outputs": []
    },
    {
      "cell_type": "code",
      "metadata": {
        "id": "E1cRObLfDf8p"
      },
      "source": [
        " df = pd.read_json('https://bitpay.com/api/rates') #R$ na linha 34"
      ],
      "execution_count": 3,
      "outputs": []
    },
    {
      "cell_type": "code",
      "metadata": {
        "colab": {
          "base_uri": "https://localhost:8080/",
          "height": 206
        },
        "id": "k-PmqGWaG-B0",
        "outputId": "30eda6cb-0b39-4a11-cb9b-65e4d0cf3181"
      },
      "source": [
        "df.head()"
      ],
      "execution_count": 4,
      "outputs": [
        {
          "output_type": "execute_result",
          "data": {
            "text/html": [
              "<div>\n",
              "<style scoped>\n",
              "    .dataframe tbody tr th:only-of-type {\n",
              "        vertical-align: middle;\n",
              "    }\n",
              "\n",
              "    .dataframe tbody tr th {\n",
              "        vertical-align: top;\n",
              "    }\n",
              "\n",
              "    .dataframe thead th {\n",
              "        text-align: right;\n",
              "    }\n",
              "</style>\n",
              "<table border=\"1\" class=\"dataframe\">\n",
              "  <thead>\n",
              "    <tr style=\"text-align: right;\">\n",
              "      <th></th>\n",
              "      <th>code</th>\n",
              "      <th>name</th>\n",
              "      <th>rate</th>\n",
              "    </tr>\n",
              "  </thead>\n",
              "  <tbody>\n",
              "    <tr>\n",
              "      <th>0</th>\n",
              "      <td>BTC</td>\n",
              "      <td>Bitcoin</td>\n",
              "      <td>1.00</td>\n",
              "    </tr>\n",
              "    <tr>\n",
              "      <th>1</th>\n",
              "      <td>BCH</td>\n",
              "      <td>Bitcoin Cash</td>\n",
              "      <td>94.62</td>\n",
              "    </tr>\n",
              "    <tr>\n",
              "      <th>2</th>\n",
              "      <td>USD</td>\n",
              "      <td>US Dollar</td>\n",
              "      <td>58804.88</td>\n",
              "    </tr>\n",
              "    <tr>\n",
              "      <th>3</th>\n",
              "      <td>EUR</td>\n",
              "      <td>Eurozone Euro</td>\n",
              "      <td>52460.46</td>\n",
              "    </tr>\n",
              "    <tr>\n",
              "      <th>4</th>\n",
              "      <td>GBP</td>\n",
              "      <td>Pound Sterling</td>\n",
              "      <td>44153.65</td>\n",
              "    </tr>\n",
              "  </tbody>\n",
              "</table>\n",
              "</div>"
            ],
            "text/plain": [
              "  code            name      rate\n",
              "0  BTC         Bitcoin      1.00\n",
              "1  BCH    Bitcoin Cash     94.62\n",
              "2  USD       US Dollar  58804.88\n",
              "3  EUR   Eurozone Euro  52460.46\n",
              "4  GBP  Pound Sterling  44153.65"
            ]
          },
          "metadata": {},
          "execution_count": 4
        }
      ]
    },
    {
      "cell_type": "code",
      "metadata": {
        "colab": {
          "base_uri": "https://localhost:8080/",
          "height": 424
        },
        "id": "QawN5gUzHm9N",
        "outputId": "842a159b-6686-4c61-8027-2d8a5e84ba83"
      },
      "source": [
        "df"
      ],
      "execution_count": null,
      "outputs": [
        {
          "output_type": "execute_result",
          "data": {
            "text/html": [
              "<div>\n",
              "<style scoped>\n",
              "    .dataframe tbody tr th:only-of-type {\n",
              "        vertical-align: middle;\n",
              "    }\n",
              "\n",
              "    .dataframe tbody tr th {\n",
              "        vertical-align: top;\n",
              "    }\n",
              "\n",
              "    .dataframe thead th {\n",
              "        text-align: right;\n",
              "    }\n",
              "</style>\n",
              "<table border=\"1\" class=\"dataframe\">\n",
              "  <thead>\n",
              "    <tr style=\"text-align: right;\">\n",
              "      <th></th>\n",
              "      <th>code</th>\n",
              "      <th>name</th>\n",
              "      <th>rate</th>\n",
              "    </tr>\n",
              "  </thead>\n",
              "  <tbody>\n",
              "    <tr>\n",
              "      <th>0</th>\n",
              "      <td>BTC</td>\n",
              "      <td>Bitcoin</td>\n",
              "      <td>1.00</td>\n",
              "    </tr>\n",
              "    <tr>\n",
              "      <th>1</th>\n",
              "      <td>BCH</td>\n",
              "      <td>Bitcoin Cash</td>\n",
              "      <td>94.60</td>\n",
              "    </tr>\n",
              "    <tr>\n",
              "      <th>2</th>\n",
              "      <td>USD</td>\n",
              "      <td>US Dollar</td>\n",
              "      <td>58791.69</td>\n",
              "    </tr>\n",
              "    <tr>\n",
              "      <th>3</th>\n",
              "      <td>EUR</td>\n",
              "      <td>Eurozone Euro</td>\n",
              "      <td>52407.37</td>\n",
              "    </tr>\n",
              "    <tr>\n",
              "      <th>4</th>\n",
              "      <td>GBP</td>\n",
              "      <td>Pound Sterling</td>\n",
              "      <td>44128.98</td>\n",
              "    </tr>\n",
              "    <tr>\n",
              "      <th>...</th>\n",
              "      <td>...</td>\n",
              "      <td>...</td>\n",
              "      <td>...</td>\n",
              "    </tr>\n",
              "    <tr>\n",
              "      <th>165</th>\n",
              "      <td>XOF</td>\n",
              "      <td>CFA Franc BCEAO</td>\n",
              "      <td>34412176.72</td>\n",
              "    </tr>\n",
              "    <tr>\n",
              "      <th>166</th>\n",
              "      <td>YER</td>\n",
              "      <td>Yemeni Rial</td>\n",
              "      <td>14712616.58</td>\n",
              "    </tr>\n",
              "    <tr>\n",
              "      <th>167</th>\n",
              "      <td>ZAR</td>\n",
              "      <td>South African Rand</td>\n",
              "      <td>937620.56</td>\n",
              "    </tr>\n",
              "    <tr>\n",
              "      <th>168</th>\n",
              "      <td>ZMW</td>\n",
              "      <td>Zambian Kwacha</td>\n",
              "      <td>1042999.73</td>\n",
              "    </tr>\n",
              "    <tr>\n",
              "      <th>169</th>\n",
              "      <td>ZWL</td>\n",
              "      <td>Zimbabwean Dollar</td>\n",
              "      <td>18930924.00</td>\n",
              "    </tr>\n",
              "  </tbody>\n",
              "</table>\n",
              "<p>170 rows × 3 columns</p>\n",
              "</div>"
            ],
            "text/plain": [
              "    code                name         rate\n",
              "0    BTC             Bitcoin         1.00\n",
              "1    BCH        Bitcoin Cash        94.60\n",
              "2    USD           US Dollar     58791.69\n",
              "3    EUR       Eurozone Euro     52407.37\n",
              "4    GBP      Pound Sterling     44128.98\n",
              "..   ...                 ...          ...\n",
              "165  XOF     CFA Franc BCEAO  34412176.72\n",
              "166  YER         Yemeni Rial  14712616.58\n",
              "167  ZAR  South African Rand    937620.56\n",
              "168  ZMW      Zambian Kwacha   1042999.73\n",
              "169  ZWL   Zimbabwean Dollar  18930924.00\n",
              "\n",
              "[170 rows x 3 columns]"
            ]
          },
          "metadata": {},
          "execution_count": 16
        }
      ]
    },
    {
      "cell_type": "code",
      "metadata": {
        "colab": {
          "base_uri": "https://localhost:8080/",
          "height": 424
        },
        "id": "ma5FC1nlH-W5",
        "outputId": "27f8ab2f-bb80-486b-c5a1-0ce5e68f6749"
      },
      "source": [
        "df2 = pd.read_json('https://bitpay.com/api/rates')\n",
        "df2"
      ],
      "execution_count": null,
      "outputs": [
        {
          "output_type": "execute_result",
          "data": {
            "text/html": [
              "<div>\n",
              "<style scoped>\n",
              "    .dataframe tbody tr th:only-of-type {\n",
              "        vertical-align: middle;\n",
              "    }\n",
              "\n",
              "    .dataframe tbody tr th {\n",
              "        vertical-align: top;\n",
              "    }\n",
              "\n",
              "    .dataframe thead th {\n",
              "        text-align: right;\n",
              "    }\n",
              "</style>\n",
              "<table border=\"1\" class=\"dataframe\">\n",
              "  <thead>\n",
              "    <tr style=\"text-align: right;\">\n",
              "      <th></th>\n",
              "      <th>code</th>\n",
              "      <th>name</th>\n",
              "      <th>rate</th>\n",
              "    </tr>\n",
              "  </thead>\n",
              "  <tbody>\n",
              "    <tr>\n",
              "      <th>0</th>\n",
              "      <td>BTC</td>\n",
              "      <td>Bitcoin</td>\n",
              "      <td>1.00</td>\n",
              "    </tr>\n",
              "    <tr>\n",
              "      <th>1</th>\n",
              "      <td>BCH</td>\n",
              "      <td>Bitcoin Cash</td>\n",
              "      <td>94.58</td>\n",
              "    </tr>\n",
              "    <tr>\n",
              "      <th>2</th>\n",
              "      <td>USD</td>\n",
              "      <td>US Dollar</td>\n",
              "      <td>58809.18</td>\n",
              "    </tr>\n",
              "    <tr>\n",
              "      <th>3</th>\n",
              "      <td>EUR</td>\n",
              "      <td>Eurozone Euro</td>\n",
              "      <td>52455.61</td>\n",
              "    </tr>\n",
              "    <tr>\n",
              "      <th>4</th>\n",
              "      <td>GBP</td>\n",
              "      <td>Pound Sterling</td>\n",
              "      <td>44142.11</td>\n",
              "    </tr>\n",
              "    <tr>\n",
              "      <th>...</th>\n",
              "      <td>...</td>\n",
              "      <td>...</td>\n",
              "      <td>...</td>\n",
              "    </tr>\n",
              "    <tr>\n",
              "      <th>165</th>\n",
              "      <td>XOF</td>\n",
              "      <td>CFA Franc BCEAO</td>\n",
              "      <td>34422414.77</td>\n",
              "    </tr>\n",
              "    <tr>\n",
              "      <th>166</th>\n",
              "      <td>YER</td>\n",
              "      <td>Yemeni Rial</td>\n",
              "      <td>14716993.77</td>\n",
              "    </tr>\n",
              "    <tr>\n",
              "      <th>167</th>\n",
              "      <td>ZAR</td>\n",
              "      <td>South African Rand</td>\n",
              "      <td>937899.52</td>\n",
              "    </tr>\n",
              "    <tr>\n",
              "      <th>168</th>\n",
              "      <td>ZMW</td>\n",
              "      <td>Zambian Kwacha</td>\n",
              "      <td>1043310.03</td>\n",
              "    </tr>\n",
              "    <tr>\n",
              "      <th>169</th>\n",
              "      <td>ZWL</td>\n",
              "      <td>Zimbabwean Dollar</td>\n",
              "      <td>18936556.19</td>\n",
              "    </tr>\n",
              "  </tbody>\n",
              "</table>\n",
              "<p>170 rows × 3 columns</p>\n",
              "</div>"
            ],
            "text/plain": [
              "    code                name         rate\n",
              "0    BTC             Bitcoin         1.00\n",
              "1    BCH        Bitcoin Cash        94.58\n",
              "2    USD           US Dollar     58809.18\n",
              "3    EUR       Eurozone Euro     52455.61\n",
              "4    GBP      Pound Sterling     44142.11\n",
              "..   ...                 ...          ...\n",
              "165  XOF     CFA Franc BCEAO  34422414.77\n",
              "166  YER         Yemeni Rial  14716993.77\n",
              "167  ZAR  South African Rand    937899.52\n",
              "168  ZMW      Zambian Kwacha   1043310.03\n",
              "169  ZWL   Zimbabwean Dollar  18936556.19\n",
              "\n",
              "[170 rows x 3 columns]"
            ]
          },
          "metadata": {},
          "execution_count": 17
        }
      ]
    },
    {
      "cell_type": "code",
      "metadata": {
        "colab": {
          "base_uri": "https://localhost:8080/",
          "height": 424
        },
        "id": "o_mSbA56IN6D",
        "outputId": "e490f672-0674-4982-aace-418c9992b1fb"
      },
      "source": [
        "df3 = pd.read_json('https://bitpay.com/api/rates')\n",
        "df3"
      ],
      "execution_count": null,
      "outputs": [
        {
          "output_type": "execute_result",
          "data": {
            "text/html": [
              "<div>\n",
              "<style scoped>\n",
              "    .dataframe tbody tr th:only-of-type {\n",
              "        vertical-align: middle;\n",
              "    }\n",
              "\n",
              "    .dataframe tbody tr th {\n",
              "        vertical-align: top;\n",
              "    }\n",
              "\n",
              "    .dataframe thead th {\n",
              "        text-align: right;\n",
              "    }\n",
              "</style>\n",
              "<table border=\"1\" class=\"dataframe\">\n",
              "  <thead>\n",
              "    <tr style=\"text-align: right;\">\n",
              "      <th></th>\n",
              "      <th>code</th>\n",
              "      <th>name</th>\n",
              "      <th>rate</th>\n",
              "    </tr>\n",
              "  </thead>\n",
              "  <tbody>\n",
              "    <tr>\n",
              "      <th>0</th>\n",
              "      <td>BTC</td>\n",
              "      <td>Bitcoin</td>\n",
              "      <td>1.00</td>\n",
              "    </tr>\n",
              "    <tr>\n",
              "      <th>1</th>\n",
              "      <td>BCH</td>\n",
              "      <td>Bitcoin Cash</td>\n",
              "      <td>94.67</td>\n",
              "    </tr>\n",
              "    <tr>\n",
              "      <th>2</th>\n",
              "      <td>USD</td>\n",
              "      <td>US Dollar</td>\n",
              "      <td>58800.83</td>\n",
              "    </tr>\n",
              "    <tr>\n",
              "      <th>3</th>\n",
              "      <td>EUR</td>\n",
              "      <td>Eurozone Euro</td>\n",
              "      <td>52445.57</td>\n",
              "    </tr>\n",
              "    <tr>\n",
              "      <th>4</th>\n",
              "      <td>GBP</td>\n",
              "      <td>Pound Sterling</td>\n",
              "      <td>44135.85</td>\n",
              "    </tr>\n",
              "    <tr>\n",
              "      <th>...</th>\n",
              "      <td>...</td>\n",
              "      <td>...</td>\n",
              "      <td>...</td>\n",
              "    </tr>\n",
              "    <tr>\n",
              "      <th>165</th>\n",
              "      <td>XOF</td>\n",
              "      <td>CFA Franc BCEAO</td>\n",
              "      <td>34417529.76</td>\n",
              "    </tr>\n",
              "    <tr>\n",
              "      <th>166</th>\n",
              "      <td>YER</td>\n",
              "      <td>Yemeni Rial</td>\n",
              "      <td>14714905.22</td>\n",
              "    </tr>\n",
              "    <tr>\n",
              "      <th>167</th>\n",
              "      <td>ZAR</td>\n",
              "      <td>South African Rand</td>\n",
              "      <td>937766.42</td>\n",
              "    </tr>\n",
              "    <tr>\n",
              "      <th>168</th>\n",
              "      <td>ZMW</td>\n",
              "      <td>Zambian Kwacha</td>\n",
              "      <td>1043161.97</td>\n",
              "    </tr>\n",
              "    <tr>\n",
              "      <th>169</th>\n",
              "      <td>ZWL</td>\n",
              "      <td>Zimbabwean Dollar</td>\n",
              "      <td>18933868.83</td>\n",
              "    </tr>\n",
              "  </tbody>\n",
              "</table>\n",
              "<p>170 rows × 3 columns</p>\n",
              "</div>"
            ],
            "text/plain": [
              "    code                name         rate\n",
              "0    BTC             Bitcoin         1.00\n",
              "1    BCH        Bitcoin Cash        94.67\n",
              "2    USD           US Dollar     58800.83\n",
              "3    EUR       Eurozone Euro     52445.57\n",
              "4    GBP      Pound Sterling     44135.85\n",
              "..   ...                 ...          ...\n",
              "165  XOF     CFA Franc BCEAO  34417529.76\n",
              "166  YER         Yemeni Rial  14714905.22\n",
              "167  ZAR  South African Rand    937766.42\n",
              "168  ZMW      Zambian Kwacha   1043161.97\n",
              "169  ZWL   Zimbabwean Dollar  18933868.83\n",
              "\n",
              "[170 rows x 3 columns]"
            ]
          },
          "metadata": {},
          "execution_count": 18
        }
      ]
    },
    {
      "cell_type": "code",
      "metadata": {
        "colab": {
          "base_uri": "https://localhost:8080/"
        },
        "id": "lhWQ6FaoJbdX",
        "outputId": "45973c1e-fd8b-4fe3-adb1-9bb163be6870"
      },
      "source": [
        "import time\n",
        "import matplotlib.pyplot as plt\n",
        "for i in range(10): #10 coletas\n",
        "   time.sleep(5) #5 seg\n",
        "   tempo_atual = time.ctime()\n",
        "   df = pd.read_json('https://bitpay.com/api/rates')\n",
        "   print(tempo_atual, 'Valor in USD: ',df.iloc[2,2])"
      ],
      "execution_count": null,
      "outputs": [
        {
          "output_type": "stream",
          "name": "stdout",
          "text": [
            "Thu Nov 25 22:19:53 2021 Valor in USD:  58632.12\n",
            "Thu Nov 25 22:19:58 2021 Valor in USD:  58632.12\n",
            "Thu Nov 25 22:20:03 2021 Valor in USD:  58632.12\n",
            "Thu Nov 25 22:20:08 2021 Valor in USD:  58632.12\n",
            "Thu Nov 25 22:20:13 2021 Valor in USD:  58635.95\n",
            "Thu Nov 25 22:20:18 2021 Valor in USD:  58635.95\n",
            "Thu Nov 25 22:20:24 2021 Valor in USD:  58635.95\n",
            "Thu Nov 25 22:20:29 2021 Valor in USD:  58635.95\n",
            "Thu Nov 25 22:20:34 2021 Valor in USD:  58635.95\n",
            "Thu Nov 25 22:20:39 2021 Valor in USD:  58635.95\n"
          ]
        }
      ]
    },
    {
      "cell_type": "markdown",
      "metadata": {
        "id": "klZOL27lMjHX"
      },
      "source": [
        "ATIVIDADE:\n",
        "Fazer a media a cada 30 min dos valores do BTC em USD coletados a cada minuto.\n",
        "NOTA: Esta atividade precisa de tempo e paciencia!  "
      ]
    },
    {
      "cell_type": "code",
      "metadata": {
        "id": "vTu3XhctS0FH"
      },
      "source": [
        "import time\n",
        "import matplotlib.pyplot as plt\n",
        "import pandas as pd\n",
        "soma=0\n",
        "total=0\n",
        "for i in range(30): \n",
        "    time.sleep(60)\n",
        "    tempo_atual = time.ctime()\n",
        "    df = pd.read_json('https://bitpay.com/api/rates')\n",
        "    valor = df.iloc[2,2]\n",
        "    soma = soma+valor\n",
        "    total = total+1\n",
        "    print(tempo_atual, 'Valor in USD: ',valor)\n",
        "media = soma/total\n",
        "print('\\nA média do Valor BTC dos ultimos 30 min é:', media, '\\n')"
      ],
      "execution_count": null,
      "outputs": []
    }
  ]
}