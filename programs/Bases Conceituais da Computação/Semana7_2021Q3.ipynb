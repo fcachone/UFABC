{
  "nbformat": 4,
  "nbformat_minor": 0,
  "metadata": {
    "colab": {
      "name": "Semana7.ipynb",
      "provenance": [],
      "collapsed_sections": []
    },
    "kernelspec": {
      "name": "python3",
      "display_name": "Python 3"
    }
  },
  "cells": [
    {
      "cell_type": "markdown",
      "metadata": {
        "id": "6I608hUE_2iG"
      },
      "source": [
        "***Estruturas de repetição***\n",
        "\n",
        "**Loops(Laços)**\n",
        "\n",
        "Usado em situações em que é necessário repetir um determinado trecho de um programa, um determinado número de vezes.\n",
        "\n",
        "Duas formas:\n",
        "- Escrever o trecho quantas vezes for necessário, ou\n",
        "- Utilizar o conceito de Laços."
      ]
    },
    {
      "cell_type": "code",
      "metadata": {
        "id": "2nGKR7f1WsFP",
        "colab": {
          "base_uri": "https://localhost:8080/"
        },
        "outputId": "409c0288-9436-495a-84b2-b35bc31f069e"
      },
      "source": [
        "print('Oi')\n",
        "print('Oi')\n",
        "print('Oi')\n",
        "print('Oi')\n",
        "print('Oi')\n",
        "print('Oi')\n",
        "print('Oi')\n",
        "print('Oi')\n",
        "print('Oi')\n",
        "print('Oi')"
      ],
      "execution_count": null,
      "outputs": [
        {
          "output_type": "stream",
          "text": [
            "Oi\n",
            "Oi\n",
            "Oi\n",
            "Oi\n",
            "Oi\n",
            "Oi\n",
            "Oi\n",
            "Oi\n",
            "Oi\n",
            "Oi\n"
          ],
          "name": "stdout"
        }
      ]
    },
    {
      "cell_type": "markdown",
      "metadata": {
        "id": "t4Npd_2TG0Aq"
      },
      "source": [
        "**ESTRUTURA DO *FOR IN N* em PYTHON**\n",
        "\n",
        "\n",
        "FOR Pode ser usado para iterar sequencias como list, string, tuple, set, array, data frame.\n",
        "\n",
        "Para iterar uma serie de itens o FOR usa a função RANGE que devolve uma lista numerada de uma sequencia.\n",
        "\n",
        "Os FOR in Python são zero-indexed.\n",
        " "
      ]
    },
    {
      "cell_type": "code",
      "metadata": {
        "colab": {
          "base_uri": "https://localhost:8080/"
        },
        "id": "jAeOpTGT48wc",
        "outputId": "66ad340e-3034-44c5-f3e2-1df5baf8201f"
      },
      "source": [
        "range(10)"
      ],
      "execution_count": null,
      "outputs": [
        {
          "output_type": "execute_result",
          "data": {
            "text/plain": [
              "range(0, 10)"
            ]
          },
          "metadata": {},
          "execution_count": 1
        }
      ]
    },
    {
      "cell_type": "code",
      "metadata": {
        "id": "6l63J4Z3lU1I",
        "colab": {
          "base_uri": "https://localhost:8080/"
        },
        "outputId": "baa98d04-f86e-4c6f-ea0a-a8d29ca05a93"
      },
      "source": [
        "for i in range(10): #'i' variavel de apoio (index)\n",
        "    print ('Oi tudo bem?')\n",
        "    print ('i='+str(i)+ ' Oi tudo bem?')\n",
        "    print('Semana 7')\n",
        "print('Termino') #fora do alinhamento do for vai pro fim"
      ],
      "execution_count": null,
      "outputs": [
        {
          "output_type": "stream",
          "name": "stdout",
          "text": [
            "Oi tudo bem?\n",
            "i=0 Oi tudo bem?\n",
            "Semana 7\n",
            "Oi tudo bem?\n",
            "i=1 Oi tudo bem?\n",
            "Semana 7\n",
            "Oi tudo bem?\n",
            "i=2 Oi tudo bem?\n",
            "Semana 7\n",
            "Oi tudo bem?\n",
            "i=3 Oi tudo bem?\n",
            "Semana 7\n",
            "Oi tudo bem?\n",
            "i=4 Oi tudo bem?\n",
            "Semana 7\n",
            "Oi tudo bem?\n",
            "i=5 Oi tudo bem?\n",
            "Semana 7\n",
            "Oi tudo bem?\n",
            "i=6 Oi tudo bem?\n",
            "Semana 7\n",
            "Oi tudo bem?\n",
            "i=7 Oi tudo bem?\n",
            "Semana 7\n",
            "Oi tudo bem?\n",
            "i=8 Oi tudo bem?\n",
            "Semana 7\n",
            "Oi tudo bem?\n",
            "i=9 Oi tudo bem?\n",
            "Semana 7\n",
            "Termino\n"
          ]
        }
      ]
    },
    {
      "cell_type": "code",
      "metadata": {
        "colab": {
          "base_uri": "https://localhost:8080/"
        },
        "id": "4aEA7duyu2Kd",
        "outputId": "bb319f7d-7e5b-452b-fe69-02aa08240924"
      },
      "source": [
        "for i in range(10):\n",
        "    print (i)"
      ],
      "execution_count": null,
      "outputs": [
        {
          "output_type": "stream",
          "text": [
            "0\n",
            "1\n",
            "2\n",
            "3\n",
            "4\n",
            "5\n",
            "6\n",
            "7\n",
            "8\n",
            "9\n"
          ],
          "name": "stdout"
        }
      ]
    },
    {
      "cell_type": "code",
      "metadata": {
        "colab": {
          "base_uri": "https://localhost:8080/"
        },
        "id": "2eZktQA6yDCk",
        "outputId": "d25e1d21-2954-432f-baaf-778b02dc610a"
      },
      "source": [
        "sequence = [1,2,8,100,200,'caipira','caiçãra']\n",
        "#criar sequencia e imprimir oq ta na lista pela posição i\n",
        "\n",
        "for i in sequence:\n",
        "    print (i)"
      ],
      "execution_count": null,
      "outputs": [
        {
          "output_type": "stream",
          "name": "stdout",
          "text": [
            "1\n",
            "2\n",
            "8\n",
            "100\n",
            "200\n",
            "caipira\n",
            "caiçãra\n"
          ]
        }
      ]
    },
    {
      "cell_type": "markdown",
      "metadata": {
        "id": "ofpNL1gtyql3"
      },
      "source": [
        "\n",
        "\n",
        "**Lembre-se: RANGE sempre deve usar numeros inteiros.**"
      ]
    },
    {
      "cell_type": "code",
      "metadata": {
        "colab": {
          "base_uri": "https://localhost:8080/"
        },
        "id": "m0kT_YEWuonK",
        "outputId": "813de897-1e6d-4bf7-a338-80f1555e3b67"
      },
      "source": [
        "len(sequence) #tamanho da estrutura 'sequence'"
      ],
      "execution_count": null,
      "outputs": [
        {
          "output_type": "execute_result",
          "data": {
            "text/plain": [
              "7"
            ]
          },
          "metadata": {},
          "execution_count": 17
        }
      ]
    },
    {
      "cell_type": "code",
      "metadata": {
        "colab": {
          "base_uri": "https://localhost:8080/"
        },
        "id": "T1kolh6ky6w0",
        "outputId": "f3627a6f-256c-40cd-a570-2afa7738436b"
      },
      "source": [
        "for i in range(7):\n",
        "    print (sequence[i]) #pode pedir a posição exata (sequence[3])\n",
        "\n"
      ],
      "execution_count": null,
      "outputs": [
        {
          "output_type": "stream",
          "name": "stdout",
          "text": [
            "1\n",
            "2\n",
            "8\n",
            "100\n",
            "200\n",
            "caipira\n",
            "caiçãra\n"
          ]
        }
      ]
    },
    {
      "cell_type": "code",
      "metadata": {
        "colab": {
          "base_uri": "https://localhost:8080/"
        },
        "id": "gPKC-wG2zQWG",
        "outputId": "a99c2924-8355-4e2e-9348-c1851790cfbf"
      },
      "source": [
        "# RANGE(Incio, Fim, Passo)\n",
        "for i in range(1,20,3):\n",
        "    print (i)"
      ],
      "execution_count": null,
      "outputs": [
        {
          "output_type": "stream",
          "name": "stdout",
          "text": [
            "1\n",
            "4\n",
            "7\n",
            "10\n",
            "13\n",
            "16\n",
            "19\n"
          ]
        }
      ]
    },
    {
      "cell_type": "code",
      "metadata": {
        "colab": {
          "base_uri": "https://localhost:8080/"
        },
        "id": "eeXfEcZmGo5I",
        "outputId": "75adf298-ec9c-4cab-faff-af541c85c21e"
      },
      "source": [
        "from google.colab import drive\n",
        "drive.mount('/content/drive')"
      ],
      "execution_count": 30,
      "outputs": [
        {
          "output_type": "stream",
          "name": "stdout",
          "text": [
            "Drive already mounted at /content/drive; to attempt to forcibly remount, call drive.mount(\"/content/drive\", force_remount=True).\n"
          ]
        }
      ]
    },
    {
      "cell_type": "markdown",
      "metadata": {
        "id": "ABrMnd8EukvX"
      },
      "source": [
        "# **APPLICAÇÃO**"
      ]
    },
    {
      "cell_type": "code",
      "metadata": {
        "colab": {
          "base_uri": "https://localhost:8080/"
        },
        "id": "dVKuzUbZuukb",
        "outputId": "bae471a0-e695-4725-d231-d99b015669d1"
      },
      "source": [
        "import numpy as np\n",
        "import matplotlib.pyplot as plt\n",
        "from google.colab import drive\n",
        "drive.mount('/content/drive')\n"
      ],
      "execution_count": 40,
      "outputs": [
        {
          "output_type": "stream",
          "name": "stdout",
          "text": [
            "Drive already mounted at /content/drive; to attempt to forcibly remount, call drive.mount(\"/content/drive\", force_remount=True).\n"
          ]
        }
      ]
    },
    {
      "cell_type": "code",
      "metadata": {
        "colab": {
          "base_uri": "https://localhost:8080/",
          "height": 206
        },
        "id": "6KpQujBou0oR",
        "outputId": "bc5fd637-17af-42cc-c177-fb73745b8a31"
      },
      "source": [
        "import pandas as pd\n",
        "df = pd.read_csv('/content/drive/My Drive/Colab Notebooks/Bitstamp_BTCUSD_d.csv')\n",
        "df.head()"
      ],
      "execution_count": 69,
      "outputs": [
        {
          "output_type": "execute_result",
          "data": {
            "text/html": [
              "<div>\n",
              "<style scoped>\n",
              "    .dataframe tbody tr th:only-of-type {\n",
              "        vertical-align: middle;\n",
              "    }\n",
              "\n",
              "    .dataframe tbody tr th {\n",
              "        vertical-align: top;\n",
              "    }\n",
              "\n",
              "    .dataframe thead th {\n",
              "        text-align: right;\n",
              "    }\n",
              "</style>\n",
              "<table border=\"1\" class=\"dataframe\">\n",
              "  <thead>\n",
              "    <tr style=\"text-align: right;\">\n",
              "      <th></th>\n",
              "      <th>Unix Timestamp</th>\n",
              "      <th>Date</th>\n",
              "      <th>Symbol</th>\n",
              "      <th>Open</th>\n",
              "      <th>High</th>\n",
              "      <th>Low</th>\n",
              "      <th>Close</th>\n",
              "      <th>Volume BTC</th>\n",
              "      <th>Volume USD</th>\n",
              "    </tr>\n",
              "  </thead>\n",
              "  <tbody>\n",
              "    <tr>\n",
              "      <th>0</th>\n",
              "      <td>1.603930e+09</td>\n",
              "      <td>2020-10-29</td>\n",
              "      <td>BTCUSD</td>\n",
              "      <td>13274.73</td>\n",
              "      <td>13327.61</td>\n",
              "      <td>13184.50</td>\n",
              "      <td>13276.23</td>\n",
              "      <td>1402.78</td>\n",
              "      <td>1.861382e+07</td>\n",
              "    </tr>\n",
              "    <tr>\n",
              "      <th>1</th>\n",
              "      <td>1.603843e+09</td>\n",
              "      <td>2020-10-28</td>\n",
              "      <td>BTCUSD</td>\n",
              "      <td>13647.90</td>\n",
              "      <td>13864.89</td>\n",
              "      <td>12892.00</td>\n",
              "      <td>13274.73</td>\n",
              "      <td>10670.86</td>\n",
              "      <td>1.426913e+08</td>\n",
              "    </tr>\n",
              "    <tr>\n",
              "      <th>2</th>\n",
              "      <td>1.603757e+09</td>\n",
              "      <td>2020-10-27</td>\n",
              "      <td>BTCUSD</td>\n",
              "      <td>13066.73</td>\n",
              "      <td>13788.00</td>\n",
              "      <td>13057.09</td>\n",
              "      <td>13647.90</td>\n",
              "      <td>11242.75</td>\n",
              "      <td>1.511716e+08</td>\n",
              "    </tr>\n",
              "    <tr>\n",
              "      <th>3</th>\n",
              "      <td>1.603670e+09</td>\n",
              "      <td>2020-10-26</td>\n",
              "      <td>BTCUSD</td>\n",
              "      <td>13039.09</td>\n",
              "      <td>13250.00</td>\n",
              "      <td>12773.50</td>\n",
              "      <td>13066.73</td>\n",
              "      <td>5725.20</td>\n",
              "      <td>7.478865e+07</td>\n",
              "    </tr>\n",
              "    <tr>\n",
              "      <th>4</th>\n",
              "      <td>1.603584e+09</td>\n",
              "      <td>2020-10-25</td>\n",
              "      <td>BTCUSD</td>\n",
              "      <td>13122.73</td>\n",
              "      <td>13363.53</td>\n",
              "      <td>12903.74</td>\n",
              "      <td>13039.09</td>\n",
              "      <td>3658.60</td>\n",
              "      <td>4.784537e+07</td>\n",
              "    </tr>\n",
              "  </tbody>\n",
              "</table>\n",
              "</div>"
            ],
            "text/plain": [
              "   Unix Timestamp        Date  Symbol  ...     Close  Volume BTC    Volume USD\n",
              "0    1.603930e+09  2020-10-29  BTCUSD  ...  13276.23     1402.78  1.861382e+07\n",
              "1    1.603843e+09  2020-10-28  BTCUSD  ...  13274.73    10670.86  1.426913e+08\n",
              "2    1.603757e+09  2020-10-27  BTCUSD  ...  13647.90    11242.75  1.511716e+08\n",
              "3    1.603670e+09  2020-10-26  BTCUSD  ...  13066.73     5725.20  7.478865e+07\n",
              "4    1.603584e+09  2020-10-25  BTCUSD  ...  13039.09     3658.60  4.784537e+07\n",
              "\n",
              "[5 rows x 9 columns]"
            ]
          },
          "metadata": {},
          "execution_count": 69
        }
      ]
    },
    {
      "cell_type": "code",
      "metadata": {
        "colab": {
          "base_uri": "https://localhost:8080/"
        },
        "id": "kwdw14kBvdPC",
        "outputId": "39f582dc-3d7d-457a-9569-57ce9945a704"
      },
      "source": [
        "len(df)"
      ],
      "execution_count": 70,
      "outputs": [
        {
          "output_type": "execute_result",
          "data": {
            "text/plain": [
              "2151"
            ]
          },
          "metadata": {},
          "execution_count": 70
        }
      ]
    },
    {
      "cell_type": "code",
      "metadata": {
        "id": "XBIq5w3Vvq4t"
      },
      "source": [
        "print('Filtra dias com volume acima de 40000 BTC\\n')\n",
        "for i in range(len(df)): #range do tamanho do dataframe\n",
        "    VolumeBTC = df.iloc[i,7] #[linha,coluna]\n",
        "    if VolumeBTC >= 40000.0:\n",
        "        print ('Data:',df.iloc[i,1],'Volume:',VolumeBTC)"
      ],
      "execution_count": null,
      "outputs": []
    },
    {
      "cell_type": "markdown",
      "metadata": {
        "id": "CWQHg2oEM5Sq"
      },
      "source": [
        "**ATIVIDADE**\n",
        "\n",
        "Somar os valores de Close a cada 7 dias e imprimir o total."
      ]
    },
    {
      "cell_type": "code",
      "metadata": {
        "colab": {
          "base_uri": "https://localhost:8080/"
        },
        "id": "eQafiIdhUUA6",
        "outputId": "4cd1cddb-befb-4098-ae01-5bb2dadc61e5"
      },
      "source": [
        "import numpy as np\n",
        "import matplotlib.pyplot as plt\n",
        "from google.colab import drive\n",
        "drive.mount('/content/drive')"
      ],
      "execution_count": 71,
      "outputs": [
        {
          "output_type": "stream",
          "name": "stdout",
          "text": [
            "Drive already mounted at /content/drive; to attempt to forcibly remount, call drive.mount(\"/content/drive\", force_remount=True).\n"
          ]
        }
      ]
    },
    {
      "cell_type": "code",
      "metadata": {
        "colab": {
          "base_uri": "https://localhost:8080/",
          "height": 206
        },
        "id": "zp7nNJBiUXu6",
        "outputId": "802041de-32c8-4c87-8ef7-6a2a1e35a456"
      },
      "source": [
        "import pandas as pd\n",
        "df = pd.read_csv('/content/drive/My Drive/Colab Notebooks/Bitstamp_BTCUSD_d.csv')\n",
        "df.head()"
      ],
      "execution_count": 72,
      "outputs": [
        {
          "output_type": "execute_result",
          "data": {
            "text/html": [
              "<div>\n",
              "<style scoped>\n",
              "    .dataframe tbody tr th:only-of-type {\n",
              "        vertical-align: middle;\n",
              "    }\n",
              "\n",
              "    .dataframe tbody tr th {\n",
              "        vertical-align: top;\n",
              "    }\n",
              "\n",
              "    .dataframe thead th {\n",
              "        text-align: right;\n",
              "    }\n",
              "</style>\n",
              "<table border=\"1\" class=\"dataframe\">\n",
              "  <thead>\n",
              "    <tr style=\"text-align: right;\">\n",
              "      <th></th>\n",
              "      <th>Unix Timestamp</th>\n",
              "      <th>Date</th>\n",
              "      <th>Symbol</th>\n",
              "      <th>Open</th>\n",
              "      <th>High</th>\n",
              "      <th>Low</th>\n",
              "      <th>Close</th>\n",
              "      <th>Volume BTC</th>\n",
              "      <th>Volume USD</th>\n",
              "    </tr>\n",
              "  </thead>\n",
              "  <tbody>\n",
              "    <tr>\n",
              "      <th>0</th>\n",
              "      <td>1.603930e+09</td>\n",
              "      <td>2020-10-29</td>\n",
              "      <td>BTCUSD</td>\n",
              "      <td>13274.73</td>\n",
              "      <td>13327.61</td>\n",
              "      <td>13184.50</td>\n",
              "      <td>13276.23</td>\n",
              "      <td>1402.78</td>\n",
              "      <td>1.861382e+07</td>\n",
              "    </tr>\n",
              "    <tr>\n",
              "      <th>1</th>\n",
              "      <td>1.603843e+09</td>\n",
              "      <td>2020-10-28</td>\n",
              "      <td>BTCUSD</td>\n",
              "      <td>13647.90</td>\n",
              "      <td>13864.89</td>\n",
              "      <td>12892.00</td>\n",
              "      <td>13274.73</td>\n",
              "      <td>10670.86</td>\n",
              "      <td>1.426913e+08</td>\n",
              "    </tr>\n",
              "    <tr>\n",
              "      <th>2</th>\n",
              "      <td>1.603757e+09</td>\n",
              "      <td>2020-10-27</td>\n",
              "      <td>BTCUSD</td>\n",
              "      <td>13066.73</td>\n",
              "      <td>13788.00</td>\n",
              "      <td>13057.09</td>\n",
              "      <td>13647.90</td>\n",
              "      <td>11242.75</td>\n",
              "      <td>1.511716e+08</td>\n",
              "    </tr>\n",
              "    <tr>\n",
              "      <th>3</th>\n",
              "      <td>1.603670e+09</td>\n",
              "      <td>2020-10-26</td>\n",
              "      <td>BTCUSD</td>\n",
              "      <td>13039.09</td>\n",
              "      <td>13250.00</td>\n",
              "      <td>12773.50</td>\n",
              "      <td>13066.73</td>\n",
              "      <td>5725.20</td>\n",
              "      <td>7.478865e+07</td>\n",
              "    </tr>\n",
              "    <tr>\n",
              "      <th>4</th>\n",
              "      <td>1.603584e+09</td>\n",
              "      <td>2020-10-25</td>\n",
              "      <td>BTCUSD</td>\n",
              "      <td>13122.73</td>\n",
              "      <td>13363.53</td>\n",
              "      <td>12903.74</td>\n",
              "      <td>13039.09</td>\n",
              "      <td>3658.60</td>\n",
              "      <td>4.784537e+07</td>\n",
              "    </tr>\n",
              "  </tbody>\n",
              "</table>\n",
              "</div>"
            ],
            "text/plain": [
              "   Unix Timestamp        Date  Symbol  ...     Close  Volume BTC    Volume USD\n",
              "0    1.603930e+09  2020-10-29  BTCUSD  ...  13276.23     1402.78  1.861382e+07\n",
              "1    1.603843e+09  2020-10-28  BTCUSD  ...  13274.73    10670.86  1.426913e+08\n",
              "2    1.603757e+09  2020-10-27  BTCUSD  ...  13647.90    11242.75  1.511716e+08\n",
              "3    1.603670e+09  2020-10-26  BTCUSD  ...  13066.73     5725.20  7.478865e+07\n",
              "4    1.603584e+09  2020-10-25  BTCUSD  ...  13039.09     3658.60  4.784537e+07\n",
              "\n",
              "[5 rows x 9 columns]"
            ]
          },
          "metadata": {},
          "execution_count": 72
        }
      ]
    },
    {
      "cell_type": "code",
      "metadata": {
        "colab": {
          "base_uri": "https://localhost:8080/"
        },
        "id": "vrmXDmqnUdzT",
        "outputId": "4322024d-556a-4e73-c564-7e86b8e1968a"
      },
      "source": [
        "len(df)"
      ],
      "execution_count": 74,
      "outputs": [
        {
          "output_type": "execute_result",
          "data": {
            "text/plain": [
              "2151"
            ]
          },
          "metadata": {},
          "execution_count": 74
        }
      ]
    },
    {
      "cell_type": "code",
      "metadata": {
        "colab": {
          "base_uri": "https://localhost:8080/"
        },
        "id": "nZhVxqCjQdrl",
        "outputId": "671f1c2f-d125-4585-e846-da1745df23a7"
      },
      "source": [
        "print('Soma dos valores de Close a cada 7 dias:\\n')\n",
        "for i in range(0,2151,7):\n",
        "    Close = df.iloc[i,6]\n",
        "sum(df.iloc[range(0,len(df),7),6])\n",
        "    #print ('Data:',Data,'Valor Close:',Close)\n",
        "\n",
        "    \n",
        "    \n",
        "\n",
        "\n",
        "\n"
      ],
      "execution_count": 173,
      "outputs": [
        {
          "output_type": "stream",
          "name": "stdout",
          "text": [
            "Soma dos valores de Close a cada 7 dias:\n",
            "\n"
          ]
        },
        {
          "output_type": "execute_result",
          "data": {
            "text/plain": [
              "1436383.4699999993"
            ]
          },
          "metadata": {},
          "execution_count": 173
        }
      ]
    }
  ]
}