{
  "nbformat": 4,
  "nbformat_minor": 0,
  "metadata": {
    "colab": {
      "name": "PROVA 2021Q3 ",
      "provenance": [],
      "collapsed_sections": []
    },
    "kernelspec": {
      "name": "python3",
      "display_name": "Python 3"
    }
  },
  "cells": [
    {
      "cell_type": "markdown",
      "metadata": {
        "id": "63kX-4DOVcB1"
      },
      "source": [
        "# PROVA - A SER ENVIADA NAS ATIVIDADES DO SIGAA\n",
        "\n",
        "*Ao realizar esta prova estou de acordo que o conteudo è de minha autoria e que uma eventual outra prova com o mesmo conteudo serà considerado um indicio de cola.*\n",
        "\n",
        "Nome **Fabio Cachone de Oliveira Silva**\n",
        "\n",
        "RA **11202131244**\n",
        "\n",
        "TURMA **TNB4BIS0005-15SB (2021.3 - 5N12)**\n"
      ]
    },
    {
      "cell_type": "markdown",
      "metadata": {
        "id": "4IWICO262Pxm"
      },
      "source": [
        "#Situação problema\n",
        "\n",
        "Dentro de um periodo de 6h, 4h ou 2h è pedido verificar uma envantual correlação entre a quotações do USD/BTC e BRL/BTC.\n",
        "\n",
        "Devido as variações entre USD e BRL os resultados pode ser diferente conforme a data de execução do teste.\n",
        "\n",
        "Coletar os dados em JSON pelo URL https://bitpay.com/api/rates\n",
        "O periodo de coleta, a quantidades e a periodicidade das requisições são a criterio do aluno.\n",
        "\n",
        "NOTA:::::È recomendado e importante realizar a prova com as ferramentas e as metodologias apresentadas durante o curso. A realização da prova com tecnicas e ferramenta não apresentada no curso poderá necessitar um vista de prova especifica sem garantia de aprovação.\n",
        "\n",
        "Para realizar este teste siga as seguinte etapas.\n",
        "\n",
        "ETAPA 1. - Descritiva - Bloco de texto\n",
        "Descrever o periodo de coleta escolhido, o intevalo de coletas, a quantidade de coletas que serão realizadas no teste. Descrever a estrutura de coleta usada e o tamanho esperado antes de executar o codigo.\n",
        "[Pontos 1]\n",
        "\n",
        "ETAPA 2. - Coleta dados - Bloco de Codigo\n",
        "Realizar o codigo de coleta periodica.\n",
        "Executar a coleta e depois imprimir na tela a estrutura coletada ou um resumo dela.\n",
        "[Pontos 3]\n",
        "\n",
        "ETAPA 3. - Estatistica - Bloco de Codigo\n",
        "Realizar e executar o codigo para calcular a correlacão entre USD/BTC e BRL/BTC acima dos dados coletados.\n",
        "[Pontos 4]\n",
        "\n",
        "ETAPA 4. - Descritiva - Discutir as correlações encontradas(Positiva, negativa, ou nenhuma). [Pontos 2]"
      ]
    },
    {
      "cell_type": "markdown",
      "metadata": {
        "id": "8VpuewZyQeGE"
      },
      "source": [
        "# ETAPA 1\n",
        "\n",
        "Utilizando JSON pelo URL https://bitpay.com/api/rates, serão coletados **200 dados** referente as cotações do USD/BTC e BRL/BTC, a cada **1min12seg** por um período de **4 horas**.\n",
        "\n",
        "Armazenando esses dados no **dataframe**, tendo como previsão o uso de por volta de **30 linhas** de código."
      ]
    },
    {
      "cell_type": "markdown",
      "metadata": {
        "id": "cWzYXHtHSKI1"
      },
      "source": [
        "# ETAPA 2\n",
        "\n"
      ]
    },
    {
      "cell_type": "code",
      "metadata": {
        "colab": {
          "base_uri": "https://localhost:8080/"
        },
        "id": "HQ1oeoAFSRla",
        "outputId": "12df490f-fa8d-4d42-f515-8d113bebaab1"
      },
      "source": [
        "import pandas as pd\n",
        "import time\n",
        "import matplotlib.pyplot as plt\n",
        "import numpy as np\n",
        "\n",
        "x=[]\n",
        "y=[]\n",
        "\n",
        "for i in range(200):\n",
        "   time.sleep(72)\n",
        "   df = pd.read_json('https://bitpay.com/api/rates')\n",
        "   ctime = time.ctime()\n",
        "   dolar = df.iloc[2,2]\n",
        "   real = df.iloc[34,2]\n",
        "   x = x+[dolar]\n",
        "   y = y+[real]\n",
        "   print(ctime, '   Value in USD:',dolar, '   Value in BRL:',real)"
      ],
      "execution_count": 1,
      "outputs": [
        {
          "output_type": "stream",
          "name": "stdout",
          "text": [
            "Fri Dec  3 19:04:34 2021    Value in USD: 54806.45    Value in BRL: 309716.75\n",
            "Fri Dec  3 19:05:46 2021    Value in USD: 54712.88    Value in BRL: 309187.96\n",
            "Fri Dec  3 19:06:59 2021    Value in USD: 54764.74    Value in BRL: 309481.04\n",
            "Fri Dec  3 19:08:12 2021    Value in USD: 54702.35    Value in BRL: 309128.42\n",
            "Fri Dec  3 19:09:24 2021    Value in USD: 54740.48    Value in BRL: 309343.9\n",
            "Fri Dec  3 19:10:36 2021    Value in USD: 54692.19    Value in BRL: 309071.04\n",
            "Fri Dec  3 19:11:49 2021    Value in USD: 54692.71    Value in BRL: 309073.97\n",
            "Fri Dec  3 19:13:01 2021    Value in USD: 54637.83    Value in BRL: 308763.83\n",
            "Fri Dec  3 19:14:13 2021    Value in USD: 54740.82    Value in BRL: 309345.82\n",
            "Fri Dec  3 19:15:26 2021    Value in USD: 54721.86    Value in BRL: 309238.68\n",
            "Fri Dec  3 19:16:39 2021    Value in USD: 54725.19    Value in BRL: 309257.54\n",
            "Fri Dec  3 19:17:52 2021    Value in USD: 54749.6    Value in BRL: 309395.47\n",
            "Fri Dec  3 19:19:05 2021    Value in USD: 54687.16    Value in BRL: 309042.63\n",
            "Fri Dec  3 19:20:17 2021    Value in USD: 54529.07    Value in BRL: 308149.24\n",
            "Fri Dec  3 19:21:30 2021    Value in USD: 54529.07    Value in BRL: 308149.24\n",
            "Fri Dec  3 19:22:43 2021    Value in USD: 54498.99    Value in BRL: 307979.22\n",
            "Fri Dec  3 19:23:56 2021    Value in USD: 54375.85    Value in BRL: 307283.36\n",
            "Fri Dec  3 19:25:08 2021    Value in USD: 54513.76    Value in BRL: 308062.71\n",
            "Fri Dec  3 19:26:21 2021    Value in USD: 54431.45    Value in BRL: 307597.57\n",
            "Fri Dec  3 19:27:34 2021    Value in USD: 54371.71    Value in BRL: 307259.97\n",
            "Fri Dec  3 19:28:47 2021    Value in USD: 54308.02    Value in BRL: 306900.07\n",
            "Fri Dec  3 19:29:59 2021    Value in USD: 54326.36    Value in BRL: 307003.71\n",
            "Fri Dec  3 19:31:12 2021    Value in USD: 54296.82    Value in BRL: 308145.3\n",
            "Fri Dec  3 19:32:25 2021    Value in USD: 54179.47    Value in BRL: 307479.31\n",
            "Fri Dec  3 19:33:38 2021    Value in USD: 54096.52    Value in BRL: 307008.56\n",
            "Fri Dec  3 19:34:50 2021    Value in USD: 54257.2    Value in BRL: 307920.45\n",
            "Fri Dec  3 19:36:03 2021    Value in USD: 54202.37    Value in BRL: 307609.26\n",
            "Fri Dec  3 19:37:15 2021    Value in USD: 54032.91    Value in BRL: 306647.57\n",
            "Fri Dec  3 19:38:28 2021    Value in USD: 54092.6    Value in BRL: 306986.32\n",
            "Fri Dec  3 19:39:41 2021    Value in USD: 53996.39    Value in BRL: 306440.3\n",
            "Fri Dec  3 19:40:53 2021    Value in USD: 53945.61    Value in BRL: 306152.15\n",
            "Fri Dec  3 19:42:06 2021    Value in USD: 53801.54    Value in BRL: 305334.48\n",
            "Fri Dec  3 19:43:19 2021    Value in USD: 53835.06    Value in BRL: 305524.73\n",
            "Fri Dec  3 19:44:32 2021    Value in USD: 53955.94    Value in BRL: 306210.74\n",
            "Fri Dec  3 19:45:44 2021    Value in USD: 54108.05    Value in BRL: 307074.02\n",
            "Fri Dec  3 19:46:57 2021    Value in USD: 53985.32    Value in BRL: 306377.51\n",
            "Fri Dec  3 19:48:10 2021    Value in USD: 54078.37    Value in BRL: 306905.55\n",
            "Fri Dec  3 19:49:23 2021    Value in USD: 53986.53    Value in BRL: 306384.37\n",
            "Fri Dec  3 19:50:35 2021    Value in USD: 53809.88    Value in BRL: 305381.84\n",
            "Fri Dec  3 19:51:47 2021    Value in USD: 53773.98    Value in BRL: 305178.09\n",
            "Fri Dec  3 19:53:00 2021    Value in USD: 53789.69    Value in BRL: 305267.26\n",
            "Fri Dec  3 19:54:12 2021    Value in USD: 53992.63    Value in BRL: 306418.97\n",
            "Fri Dec  3 19:55:24 2021    Value in USD: 53893.67    Value in BRL: 305857.35\n",
            "Fri Dec  3 19:56:37 2021    Value in USD: 53813.08    Value in BRL: 305399.99\n",
            "Fri Dec  3 19:57:51 2021    Value in USD: 53878.6    Value in BRL: 305771.81\n",
            "Fri Dec  3 19:59:03 2021    Value in USD: 53735.82    Value in BRL: 304961.52\n",
            "Fri Dec  3 20:00:15 2021    Value in USD: 53901.61    Value in BRL: 305902.39\n",
            "Fri Dec  3 20:01:28 2021    Value in USD: 53809.87    Value in BRL: 305381.8\n",
            "Fri Dec  3 20:02:41 2021    Value in USD: 53610.57    Value in BRL: 304250.68\n",
            "Fri Dec  3 20:03:54 2021    Value in USD: 53519.62    Value in BRL: 303734.53\n",
            "Fri Dec  3 20:05:06 2021    Value in USD: 53547.26    Value in BRL: 303891.43\n",
            "Fri Dec  3 20:06:19 2021    Value in USD: 53834.31    Value in BRL: 305520.47\n",
            "Fri Dec  3 20:07:31 2021    Value in USD: 53852.49    Value in BRL: 305623.65\n",
            "Fri Dec  3 20:08:44 2021    Value in USD: 53932.21    Value in BRL: 306076.08\n",
            "Fri Dec  3 20:09:57 2021    Value in USD: 53813.21    Value in BRL: 305400.73\n",
            "Fri Dec  3 20:11:09 2021    Value in USD: 53614.18    Value in BRL: 304271.19\n",
            "Fri Dec  3 20:12:22 2021    Value in USD: 53524.21    Value in BRL: 303760.62\n",
            "Fri Dec  3 20:13:35 2021    Value in USD: 53412.08    Value in BRL: 303124.24\n",
            "Fri Dec  3 20:14:48 2021    Value in USD: 53396.3    Value in BRL: 303034.67\n",
            "Fri Dec  3 20:16:00 2021    Value in USD: 53378.96    Value in BRL: 302936.26\n",
            "Fri Dec  3 20:17:12 2021    Value in USD: 53596.15    Value in BRL: 304168.86\n",
            "Fri Dec  3 20:18:25 2021    Value in USD: 53163.25    Value in BRL: 301712.05\n",
            "Fri Dec  3 20:19:38 2021    Value in USD: 53163.25    Value in BRL: 301712.05\n",
            "Fri Dec  3 20:20:50 2021    Value in USD: 52532.04    Value in BRL: 298129.83\n",
            "Fri Dec  3 20:22:03 2021    Value in USD: 52646.1    Value in BRL: 298777.17\n",
            "Fri Dec  3 20:23:16 2021    Value in USD: 53187.88    Value in BRL: 301851.87\n",
            "Fri Dec  3 20:24:29 2021    Value in USD: 53202.59    Value in BRL: 301935.31\n",
            "Fri Dec  3 20:25:41 2021    Value in USD: 53212.11    Value in BRL: 301989.37\n",
            "Fri Dec  3 20:26:53 2021    Value in USD: 53164.65    Value in BRL: 301720.05\n",
            "Fri Dec  3 20:28:06 2021    Value in USD: 53164.65    Value in BRL: 301720.05\n",
            "Fri Dec  3 20:29:18 2021    Value in USD: 53121.81    Value in BRL: 301476.87\n",
            "Fri Dec  3 20:30:31 2021    Value in USD: 53076.14    Value in BRL: 301185.86\n",
            "Fri Dec  3 20:31:44 2021    Value in USD: 53258.79    Value in BRL: 302222.31\n",
            "Fri Dec  3 20:32:57 2021    Value in USD: 53258.79    Value in BRL: 302222.31\n",
            "Fri Dec  3 20:34:09 2021    Value in USD: 53154.68    Value in BRL: 301631.54\n",
            "Fri Dec  3 20:35:21 2021    Value in USD: 53030.49    Value in BRL: 300926.83\n",
            "Fri Dec  3 20:36:34 2021    Value in USD: 53004.02    Value in BRL: 300776.64\n",
            "Fri Dec  3 20:37:46 2021    Value in USD: 52932.41    Value in BRL: 300370.26\n",
            "Fri Dec  3 20:38:59 2021    Value in USD: 52782.11    Value in BRL: 299517.34\n",
            "Fri Dec  3 20:40:11 2021    Value in USD: 52726.7    Value in BRL: 299202.95\n",
            "Fri Dec  3 20:41:24 2021    Value in USD: 52784.75    Value in BRL: 299532.37\n",
            "Fri Dec  3 20:42:37 2021    Value in USD: 52840.02    Value in BRL: 299845.96\n",
            "Fri Dec  3 20:43:49 2021    Value in USD: 52859.41    Value in BRL: 299955.99\n",
            "Fri Dec  3 20:45:02 2021    Value in USD: 52904.24    Value in BRL: 300210.43\n",
            "Fri Dec  3 20:46:15 2021    Value in USD: 52881.9    Value in BRL: 300083.61\n",
            "Fri Dec  3 20:47:28 2021    Value in USD: 52986.05    Value in BRL: 300674.66\n",
            "Fri Dec  3 20:48:41 2021    Value in USD: 53097.35    Value in BRL: 301306.21\n",
            "Fri Dec  3 20:49:53 2021    Value in USD: 53136.99    Value in BRL: 301531.15\n",
            "Fri Dec  3 20:51:06 2021    Value in USD: 53206.54    Value in BRL: 301925.85\n",
            "Fri Dec  3 20:52:19 2021    Value in USD: 53232.16    Value in BRL: 302071.22\n",
            "Fri Dec  3 20:53:31 2021    Value in USD: 53447.33    Value in BRL: 303292.24\n",
            "Fri Dec  3 20:54:44 2021    Value in USD: 53455.79    Value in BRL: 303340.22\n",
            "Fri Dec  3 20:55:57 2021    Value in USD: 53353.63    Value in BRL: 302760.51\n",
            "Fri Dec  3 20:57:09 2021    Value in USD: 53373.77    Value in BRL: 302874.79\n",
            "Fri Dec  3 20:58:22 2021    Value in USD: 53441.95    Value in BRL: 303261.66\n",
            "Fri Dec  3 20:59:35 2021    Value in USD: 53489.52    Value in BRL: 303531.64\n",
            "Fri Dec  3 21:00:48 2021    Value in USD: 53445.97    Value in BRL: 303284.52\n",
            "Fri Dec  3 21:02:00 2021    Value in USD: 53429.82    Value in BRL: 303192.87\n",
            "Fri Dec  3 21:03:13 2021    Value in USD: 53558.64    Value in BRL: 303923.84\n",
            "Fri Dec  3 21:04:25 2021    Value in USD: 53510.21    Value in BRL: 303649.05\n",
            "Fri Dec  3 21:05:38 2021    Value in USD: 53618.56    Value in BRL: 304263.87\n",
            "Fri Dec  3 21:06:51 2021    Value in USD: 53680.59    Value in BRL: 304615.85\n",
            "Fri Dec  3 21:08:04 2021    Value in USD: 53744.79    Value in BRL: 304980.21\n",
            "Fri Dec  3 21:09:16 2021    Value in USD: 53840.35    Value in BRL: 305522.43\n",
            "Fri Dec  3 21:10:29 2021    Value in USD: 53955.13    Value in BRL: 306173.77\n",
            "Fri Dec  3 21:11:41 2021    Value in USD: 54045.28    Value in BRL: 306685.37\n",
            "Fri Dec  3 21:12:54 2021    Value in USD: 53950.95    Value in BRL: 306150.07\n",
            "Fri Dec  3 21:14:07 2021    Value in USD: 53766.05    Value in BRL: 305100.85\n",
            "Fri Dec  3 21:15:19 2021    Value in USD: 53695.85    Value in BRL: 304702.46\n",
            "Fri Dec  3 21:16:32 2021    Value in USD: 53785.01    Value in BRL: 305208.44\n",
            "Fri Dec  3 21:17:44 2021    Value in USD: 53839.97    Value in BRL: 305520.27\n",
            "Fri Dec  3 21:18:57 2021    Value in USD: 53811.45    Value in BRL: 305358.46\n",
            "Fri Dec  3 21:20:10 2021    Value in USD: 53746.17    Value in BRL: 304988.04\n",
            "Fri Dec  3 21:21:23 2021    Value in USD: 53746.17    Value in BRL: 304988.04\n",
            "Fri Dec  3 21:22:35 2021    Value in USD: 53830.85    Value in BRL: 305468.55\n",
            "Fri Dec  3 21:23:48 2021    Value in USD: 53830.85    Value in BRL: 305468.55\n",
            "Fri Dec  3 21:25:01 2021    Value in USD: 53854.83    Value in BRL: 305604.61\n",
            "Fri Dec  3 21:26:14 2021    Value in USD: 53941.08    Value in BRL: 306094.03\n",
            "Fri Dec  3 21:27:26 2021    Value in USD: 53941.08    Value in BRL: 306094.03\n",
            "Fri Dec  3 21:28:39 2021    Value in USD: 53897.27    Value in BRL: 305845.44\n",
            "Fri Dec  3 21:29:52 2021    Value in USD: 53867.54    Value in BRL: 305676.76\n",
            "Fri Dec  3 21:31:05 2021    Value in USD: 53733.58    Value in BRL: 303532.93\n",
            "Fri Dec  3 21:32:17 2021    Value in USD: 53780.95    Value in BRL: 303800.5\n",
            "Fri Dec  3 21:33:30 2021    Value in USD: 53919.96    Value in BRL: 304585.75\n",
            "Fri Dec  3 21:34:42 2021    Value in USD: 53900.22    Value in BRL: 304474.24\n",
            "Fri Dec  3 21:35:55 2021    Value in USD: 53836.9    Value in BRL: 304116.56\n",
            "Fri Dec  3 21:37:08 2021    Value in USD: 53848.43    Value in BRL: 304181.72\n",
            "Fri Dec  3 21:38:21 2021    Value in USD: 53904.85    Value in BRL: 304500.44\n",
            "Fri Dec  3 21:39:33 2021    Value in USD: 53918.57    Value in BRL: 304577.9\n",
            "Fri Dec  3 21:40:46 2021    Value in USD: 53883.48    Value in BRL: 304379.72\n",
            "Fri Dec  3 21:41:59 2021    Value in USD: 53851.14    Value in BRL: 304197.02\n",
            "Fri Dec  3 21:43:12 2021    Value in USD: 53946.14    Value in BRL: 304733.67\n",
            "Fri Dec  3 21:44:24 2021    Value in USD: 53937.96    Value in BRL: 304687.43\n",
            "Fri Dec  3 21:45:37 2021    Value in USD: 53869.12    Value in BRL: 304298.59\n",
            "Fri Dec  3 21:46:49 2021    Value in USD: 53853.21    Value in BRL: 304208.7\n",
            "Fri Dec  3 21:48:02 2021    Value in USD: 53815.34    Value in BRL: 303994.78\n",
            "Fri Dec  3 21:49:15 2021    Value in USD: 53888.93    Value in BRL: 304410.49\n",
            "Fri Dec  3 21:50:27 2021    Value in USD: 53875.73    Value in BRL: 304335.91\n",
            "Fri Dec  3 21:51:40 2021    Value in USD: 53797.78    Value in BRL: 303895.58\n",
            "Fri Dec  3 21:52:52 2021    Value in USD: 53791.29    Value in BRL: 303858.93\n",
            "Fri Dec  3 21:54:05 2021    Value in USD: 53786.58    Value in BRL: 303832.34\n",
            "Fri Dec  3 21:55:18 2021    Value in USD: 53801.33    Value in BRL: 303915.62\n",
            "Fri Dec  3 21:56:31 2021    Value in USD: 53705.02    Value in BRL: 303371.63\n",
            "Fri Dec  3 21:57:44 2021    Value in USD: 53653.38    Value in BRL: 303079.89\n",
            "Fri Dec  3 21:58:56 2021    Value in USD: 53636.18    Value in BRL: 302982.73\n",
            "Fri Dec  3 22:00:09 2021    Value in USD: 53638.82    Value in BRL: 302997.63\n",
            "Fri Dec  3 22:01:21 2021    Value in USD: 53593.19    Value in BRL: 302739.89\n",
            "Fri Dec  3 22:02:34 2021    Value in USD: 53536.98    Value in BRL: 302422.36\n",
            "Fri Dec  3 22:03:46 2021    Value in USD: 53200.94    Value in BRL: 300524.11\n",
            "Fri Dec  3 22:04:58 2021    Value in USD: 53200.94    Value in BRL: 300524.11\n",
            "Fri Dec  3 22:06:11 2021    Value in USD: 53490.66    Value in BRL: 302160.72\n",
            "Fri Dec  3 22:07:24 2021    Value in USD: 53458.95    Value in BRL: 301981.57\n",
            "Fri Dec  3 22:08:37 2021    Value in USD: 53658.28    Value in BRL: 303107.56\n",
            "Fri Dec  3 22:09:49 2021    Value in USD: 53675.23    Value in BRL: 303203.32\n",
            "Fri Dec  3 22:11:02 2021    Value in USD: 53699.27    Value in BRL: 303339.1\n",
            "Fri Dec  3 22:12:15 2021    Value in USD: 53607.99    Value in BRL: 302823.51\n",
            "Fri Dec  3 22:13:28 2021    Value in USD: 53574.17    Value in BRL: 302632.45\n",
            "Fri Dec  3 22:14:40 2021    Value in USD: 53579.98    Value in BRL: 302665.25\n",
            "Fri Dec  3 22:15:53 2021    Value in USD: 53587.04    Value in BRL: 302705.17\n",
            "Fri Dec  3 22:17:06 2021    Value in USD: 53625.65    Value in BRL: 302923.27\n",
            "Fri Dec  3 22:18:19 2021    Value in USD: 53532.1    Value in BRL: 302394.81\n",
            "Fri Dec  3 22:19:31 2021    Value in USD: 53435.93    Value in BRL: 301851.55\n",
            "Fri Dec  3 22:20:44 2021    Value in USD: 53539.73    Value in BRL: 302437.89\n",
            "Fri Dec  3 22:21:57 2021    Value in USD: 53403.35    Value in BRL: 301667.54\n",
            "Fri Dec  3 22:23:09 2021    Value in USD: 53416.88    Value in BRL: 301743.93\n",
            "Fri Dec  3 22:24:22 2021    Value in USD: 53343.58    Value in BRL: 301329.91\n",
            "Fri Dec  3 22:25:35 2021    Value in USD: 53403.67    Value in BRL: 301669.35\n",
            "Fri Dec  3 22:26:47 2021    Value in USD: 53460.53    Value in BRL: 301990.49\n",
            "Fri Dec  3 22:28:00 2021    Value in USD: 53328.31    Value in BRL: 301243.64\n",
            "Fri Dec  3 22:29:13 2021    Value in USD: 53388.34    Value in BRL: 301582.74\n",
            "Fri Dec  3 22:30:26 2021    Value in USD: 53373.49    Value in BRL: 301736.35\n",
            "Fri Dec  3 22:31:38 2021    Value in USD: 53428.45    Value in BRL: 302047.07\n",
            "Fri Dec  3 22:32:51 2021    Value in USD: 53485.69    Value in BRL: 302370.67\n",
            "Fri Dec  3 22:34:03 2021    Value in USD: 53473.27    Value in BRL: 302300.44\n",
            "Fri Dec  3 22:35:16 2021    Value in USD: 53465.18    Value in BRL: 302254.72\n",
            "Fri Dec  3 22:36:29 2021    Value in USD: 53532.4    Value in BRL: 302634.72\n",
            "Fri Dec  3 22:37:42 2021    Value in USD: 53673.56    Value in BRL: 303432.74\n",
            "Fri Dec  3 22:38:55 2021    Value in USD: 53619.6    Value in BRL: 303127.67\n",
            "Fri Dec  3 22:40:08 2021    Value in USD: 53658.26    Value in BRL: 303346.23\n",
            "Fri Dec  3 22:41:20 2021    Value in USD: 53665.17    Value in BRL: 303385.33\n",
            "Fri Dec  3 22:42:32 2021    Value in USD: 53624.03    Value in BRL: 303152.75\n",
            "Fri Dec  3 22:43:45 2021    Value in USD: 53542.66    Value in BRL: 302692.69\n",
            "Fri Dec  3 22:44:57 2021    Value in USD: 53539.33    Value in BRL: 302673.88\n",
            "Fri Dec  3 22:46:10 2021    Value in USD: 53487.88    Value in BRL: 302383.05\n",
            "Fri Dec  3 22:47:23 2021    Value in USD: 53485.24    Value in BRL: 302368.13\n",
            "Fri Dec  3 22:48:36 2021    Value in USD: 53512.91    Value in BRL: 302524.54\n",
            "Fri Dec  3 22:49:48 2021    Value in USD: 53393.29    Value in BRL: 301848.29\n",
            "Fri Dec  3 22:51:01 2021    Value in USD: 53362.82    Value in BRL: 301676.0\n",
            "Fri Dec  3 22:52:13 2021    Value in USD: 53429.04    Value in BRL: 302050.4\n",
            "Fri Dec  3 22:53:26 2021    Value in USD: 53353.25    Value in BRL: 301621.93\n",
            "Fri Dec  3 22:54:39 2021    Value in USD: 53469.31    Value in BRL: 302278.06\n",
            "Fri Dec  3 22:55:51 2021    Value in USD: 53469.31    Value in BRL: 302278.06\n",
            "Fri Dec  3 22:57:04 2021    Value in USD: 53353.3    Value in BRL: 301622.21\n",
            "Fri Dec  3 22:58:17 2021    Value in USD: 53370.47    Value in BRL: 301719.29\n",
            "Fri Dec  3 22:59:29 2021    Value in USD: 53373.57    Value in BRL: 301736.8\n",
            "Fri Dec  3 23:00:42 2021    Value in USD: 53404.33    Value in BRL: 301910.72\n",
            "Fri Dec  3 23:01:55 2021    Value in USD: 53404.33    Value in BRL: 301910.72\n",
            "Fri Dec  3 23:03:07 2021    Value in USD: 53493.23    Value in BRL: 302413.28\n",
            "Fri Dec  3 23:04:20 2021    Value in USD: 53564.59    Value in BRL: 302816.72\n",
            "Fri Dec  3 23:05:33 2021    Value in USD: 53510.57    Value in BRL: 302511.31\n"
          ]
        }
      ]
    },
    {
      "cell_type": "markdown",
      "metadata": {
        "id": "SSmnB_xYVlD3"
      },
      "source": [
        "# ETAPA 3"
      ]
    },
    {
      "cell_type": "code",
      "metadata": {
        "colab": {
          "base_uri": "https://localhost:8080/",
          "height": 495
        },
        "id": "SbbeB2fhbmLF",
        "outputId": "5267b94a-201f-401d-e7d6-ca2e9d81a484"
      },
      "source": [
        "r = np.corrcoef(x,y)\n",
        "print('Correlação entre USD/BTC e BRL/BTC:\\n',r)\n",
        "print('\\n')\n",
        "\n",
        "plt.figure(dpi= 100, facecolor = 'c')\n",
        "plt.title('Correlação entre USD/BTC e BRL/BTC')\n",
        "plt.grid(color='k', linestyle= '-.', linewidth= 0.2)\n",
        "plt.plot(x,y,'m.',label='$USD/BTC -- BRL/BTC$')\n",
        "plt.legend(loc='best')"
      ],
      "execution_count": 2,
      "outputs": [
        {
          "output_type": "stream",
          "name": "stdout",
          "text": [
            "Correlação entre USD/BTC e BRL/BTC:\n",
            " [[1.        0.9666499]\n",
            " [0.9666499 1.       ]]\n",
            "\n",
            "\n"
          ]
        },
        {
          "output_type": "execute_result",
          "data": {
            "text/plain": [
              "<matplotlib.legend.Legend at 0x7f39da912710>"
            ]
          },
          "metadata": {},
          "execution_count": 2
        },
        {
          "output_type": "display_data",
          "data": {
            "image/png": "[encoded data removed]",
            "text/plain": [
              "<Figure size 600x400 with 1 Axes>"
            ]
          },
          "metadata": {}
        }
      ]
    },
    {
      "cell_type": "markdown",
      "metadata": {
        "id": "zmjBWmm8Vq4q"
      },
      "source": [
        "# ETAPA 4\n",
        "\n",
        "Baseando-se no resultado do cálculo de coeficiente de correlação realizado na Etapa 3, podemos concluir que há uma **correlação positiva**."
      ]
    }
  ]
}